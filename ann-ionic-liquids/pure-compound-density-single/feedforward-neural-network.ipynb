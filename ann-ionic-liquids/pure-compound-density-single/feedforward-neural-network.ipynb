{
 "cells": [
  {
   "cell_type": "code",
   "execution_count": 36,
   "metadata": {
    "collapsed": true
   },
   "outputs": [],
   "source": [
    "import numpy as np\n",
    "import matplotlib.pyplot as plt\n",
    "# pip install scipy\n",
    "# pip install sklearn\n",
    "from sklearn.neural_network import MLPClassifier\n",
    "from sklearn.model_selection import train_test_split\n",
    "from sklearn.preprocessing import StandardScaler"
   ]
  },
  {
   "cell_type": "code",
   "execution_count": 37,
   "metadata": {},
   "outputs": [
    {
     "name": "stdout",
     "output_type": "stream",
     "text": [
      "/home/javidi/anaconda3/bin/python\n"
     ]
    }
   ],
   "source": [
    "from sys import executable\n",
    "print(executable)"
   ]
  },
  {
   "cell_type": "code",
   "execution_count": 38,
   "metadata": {},
   "outputs": [],
   "source": [
    "import pandas as pd #should be installed via conda install pandas"
   ]
  },
  {
   "cell_type": "code",
   "execution_count": 141,
   "metadata": {},
   "outputs": [
    {
     "name": "stderr",
     "output_type": "stream",
     "text": [
      "/home/javidi/anaconda3/lib/python3.6/site-packages/ipykernel_launcher.py:1: ParserWarning: Falling back to the 'python' engine because the 'c' engine does not support regex separators (separators > 1 char and different from '\\s+' are interpreted as regex); you can avoid this warning by specifying engine='python'.\n",
      "  \"\"\"Entry point for launching an IPython kernel.\n"
     ]
    }
   ],
   "source": [
    "il_df = pd.read_csv('nist-data-set.dat',header=None,skiprows=1,\\\n",
    "                    delimiter='\\s',names=['Temp','Pressure','Density','plusminus','Denisty_std'])"
   ]
  },
  {
   "cell_type": "code",
   "execution_count": 150,
   "metadata": {},
   "outputs": [
    {
     "data": {
      "text/html": [
       "<div>\n",
       "<style>\n",
       "    .dataframe thead tr:only-child th {\n",
       "        text-align: right;\n",
       "    }\n",
       "\n",
       "    .dataframe thead th {\n",
       "        text-align: left;\n",
       "    }\n",
       "\n",
       "    .dataframe tbody tr th {\n",
       "        vertical-align: top;\n",
       "    }\n",
       "</style>\n",
       "<table border=\"1\" class=\"dataframe\">\n",
       "  <thead>\n",
       "    <tr style=\"text-align: right;\">\n",
       "      <th></th>\n",
       "      <th>Temp</th>\n",
       "      <th>Pressure</th>\n",
       "      <th>Density</th>\n",
       "      <th>Denisty_std</th>\n",
       "    </tr>\n",
       "  </thead>\n",
       "  <tbody>\n",
       "    <tr>\n",
       "      <th>0</th>\n",
       "      <td>273.13</td>\n",
       "      <td>50000</td>\n",
       "      <td>1425.4</td>\n",
       "      <td>2.7</td>\n",
       "    </tr>\n",
       "    <tr>\n",
       "      <th>1</th>\n",
       "      <td>273.13</td>\n",
       "      <td>99920</td>\n",
       "      <td>1449.1</td>\n",
       "      <td>3.7</td>\n",
       "    </tr>\n",
       "    <tr>\n",
       "      <th>2</th>\n",
       "      <td>273.14</td>\n",
       "      <td>20000</td>\n",
       "      <td>1408.0</td>\n",
       "      <td>2.1</td>\n",
       "    </tr>\n",
       "    <tr>\n",
       "      <th>3</th>\n",
       "      <td>273.14</td>\n",
       "      <td>69900</td>\n",
       "      <td>1435.5</td>\n",
       "      <td>3.1</td>\n",
       "    </tr>\n",
       "    <tr>\n",
       "      <th>4</th>\n",
       "      <td>273.14</td>\n",
       "      <td>120000</td>\n",
       "      <td>1457.5</td>\n",
       "      <td>4.1</td>\n",
       "    </tr>\n",
       "  </tbody>\n",
       "</table>\n",
       "</div>"
      ],
      "text/plain": [
       "     Temp  Pressure  Density  Denisty_std\n",
       "0  273.13     50000   1425.4          2.7\n",
       "1  273.13     99920   1449.1          3.7\n",
       "2  273.14     20000   1408.0          2.1\n",
       "3  273.14     69900   1435.5          3.1\n",
       "4  273.14    120000   1457.5          4.1"
      ]
     },
     "execution_count": 150,
     "metadata": {},
     "output_type": "execute_result"
    }
   ],
   "source": [
    "il_df = il_df.drop('plusminus',axis=1)\n",
    "il_df.head()"
   ]
  },
  {
   "cell_type": "code",
   "execution_count": 151,
   "metadata": {},
   "outputs": [
    {
     "name": "stdout",
     "output_type": "stream",
     "text": [
      "<class 'pandas.core.frame.DataFrame'>\n",
      "RangeIndex: 266 entries, 0 to 265\n",
      "Data columns (total 4 columns):\n",
      "Temp           266 non-null float64\n",
      "Pressure       266 non-null int64\n",
      "Density        266 non-null float64\n",
      "Denisty_std    266 non-null float64\n",
      "dtypes: float64(3), int64(1)\n",
      "memory usage: 8.4 KB\n"
     ]
    }
   ],
   "source": [
    "il_df.info()"
   ]
  },
  {
   "cell_type": "code",
   "execution_count": 175,
   "metadata": {},
   "outputs": [],
   "source": [
    "il_df_train, il_df_test = train_test_split(il_df, test_size=0.33, random_state=42)"
   ]
  },
  {
   "cell_type": "code",
   "execution_count": 176,
   "metadata": {},
   "outputs": [
    {
     "name": "stdout",
     "output_type": "stream",
     "text": [
      "88\n",
      "178\n",
      "<class 'pandas.core.frame.DataFrame'>\n",
      "Int64Index: 88 entries, 181 to 252\n",
      "Data columns (total 4 columns):\n",
      "Temp           88 non-null float64\n",
      "Pressure       88 non-null int64\n",
      "Density        88 non-null float64\n",
      "Denisty_std    88 non-null float64\n",
      "dtypes: float64(3), int64(1)\n",
      "memory usage: 3.4 KB\n"
     ]
    }
   ],
   "source": [
    "print(len(il_df_test))\n",
    "print(len(il_df_train))\n",
    "il_df_train.head()\n",
    "il_df_test.info()"
   ]
  },
  {
   "cell_type": "code",
   "execution_count": 177,
   "metadata": {
    "collapsed": true
   },
   "outputs": [],
   "source": [
    "scaler = StandardScaler()"
   ]
  },
  {
   "cell_type": "code",
   "execution_count": 178,
   "metadata": {},
   "outputs": [],
   "source": [
    "il_array_train = il_df_train.values\n",
    "il_array_test = il_df_test.values"
   ]
  },
  {
   "cell_type": "code",
   "execution_count": 264,
   "metadata": {},
   "outputs": [],
   "source": [
    "X_train = il_array_train[:,0:1]\n",
    "Y_train = il_array_train[:,2]\n",
    "X_test = il_array_test[:,0:1]\n",
    "Y_test = il_array_test[:,2]\n",
    "from sklearn import preprocessing"
   ]
  },
  {
   "cell_type": "code",
   "execution_count": 239,
   "metadata": {},
   "outputs": [
    {
     "data": {
      "text/plain": [
       "StandardScaler(copy=True, with_mean=True, with_std=True)"
      ]
     },
     "execution_count": 239,
     "metadata": {},
     "output_type": "execute_result"
    }
   ],
   "source": [
    "min_max_scaler = preprocessing.MinMaxScaler()\n",
    "X_train = min_max_scaler(X_train)\n",
    "\n",
    "scaler.fit(X_train) #fit only to traning data"
   ]
  },
  {
   "cell_type": "code",
   "execution_count": 256,
   "metadata": {},
   "outputs": [
    {
     "data": {
      "text/plain": [
       "array([[-0.88411248],\n",
       "       [-1.33851   ],\n",
       "       [-0.77108054],\n",
       "       [ 0.47771823],\n",
       "       [ 1.38515143],\n",
       "       [ 0.02377466],\n",
       "       [ 0.02354769],\n",
       "       [ 0.47749126],\n",
       "       [ 1.3853784 ],\n",
       "       [-0.8832046 ],\n",
       "       [ 1.83954894],\n",
       "       [-1.11131124],\n",
       "       [ 0.93143483],\n",
       "       [ 0.47771823],\n",
       "       [ 0.02354769],\n",
       "       [ 0.47749126],\n",
       "       [-1.33828303],\n",
       "       [-0.88433946],\n",
       "       [ 0.47771823],\n",
       "       [ 0.47749126],\n",
       "       [-0.42880708],\n",
       "       [-0.88411248],\n",
       "       [ 1.83932197],\n",
       "       [-0.77085356],\n",
       "       [ 1.3853784 ],\n",
       "       [ 0.47749126],\n",
       "       [-1.11131124],\n",
       "       [-1.33828303],\n",
       "       [-1.11131124],\n",
       "       [-1.11131124],\n",
       "       [-1.11108427],\n",
       "       [ 0.02354769],\n",
       "       [-0.43062286],\n",
       "       [ 0.02354769],\n",
       "       [-1.11153821],\n",
       "       [ 0.02354769],\n",
       "       [-0.77085356],\n",
       "       [ 0.47771823],\n",
       "       [ 0.93143483],\n",
       "       [-0.43039589],\n",
       "       [-0.88433946],\n",
       "       [-0.77085356],\n",
       "       [ 0.02377466],\n",
       "       [ 0.93143483],\n",
       "       [-1.11108427],\n",
       "       [ 1.38515143],\n",
       "       [ 0.47749126],\n",
       "       [-1.11131124],\n",
       "       [ 1.83932197],\n",
       "       [ 0.47749126],\n",
       "       [-1.33873697],\n",
       "       [ 1.38515143],\n",
       "       [-0.77062659],\n",
       "       [ 0.93120786],\n",
       "       [ 0.93098088],\n",
       "       [-0.77085356],\n",
       "       [-1.11131124],\n",
       "       [-0.88411248],\n",
       "       [ 0.47771823],\n",
       "       [ 0.02377466],\n",
       "       [-1.33828303],\n",
       "       [ 1.83954894],\n",
       "       [ 0.93188877],\n",
       "       [-1.11131124],\n",
       "       [ 0.47749126],\n",
       "       [-1.33851   ],\n",
       "       [-0.43039589],\n",
       "       [-1.11131124],\n",
       "       [ 1.38560537],\n",
       "       [ 0.93120786],\n",
       "       [ 0.02354769],\n",
       "       [-0.88411248],\n",
       "       [ 0.02332071],\n",
       "       [-0.43016891],\n",
       "       [ 1.83886803],\n",
       "       [ 0.93143483],\n",
       "       [-0.88388551],\n",
       "       [ 0.9316618 ],\n",
       "       [-0.88411248],\n",
       "       [-1.11108427],\n",
       "       [ 0.47771823],\n",
       "       [ 0.02377466],\n",
       "       [-1.11108427],\n",
       "       [-0.43039589],\n",
       "       [ 0.02354769],\n",
       "       [-1.11153821],\n",
       "       [ 0.93143483],\n",
       "       [ 0.93143483],\n",
       "       [-0.77085356],\n",
       "       [-1.11108427],\n",
       "       [ 1.38515143],\n",
       "       [-0.88456643],\n",
       "       [-0.77085356],\n",
       "       [ 0.93143483],\n",
       "       [ 0.02400163],\n",
       "       [-1.11108427],\n",
       "       [ 0.02354769],\n",
       "       [ 1.83932197],\n",
       "       [-1.33851   ],\n",
       "       [-0.43084983],\n",
       "       [-0.88433946],\n",
       "       [ 0.02332071],\n",
       "       [ 1.83886803],\n",
       "       [ 0.9316618 ],\n",
       "       [ 1.83932197],\n",
       "       [-0.88433946],\n",
       "       [ 0.47726428],\n",
       "       [-0.77085356],\n",
       "       [-1.11131124],\n",
       "       [ 1.38515143],\n",
       "       [-1.33828303],\n",
       "       [ 0.47749126],\n",
       "       [ 0.93120786],\n",
       "       [ 1.38515143],\n",
       "       [-0.43039589],\n",
       "       [-0.77085356],\n",
       "       [-0.77085356],\n",
       "       [ 1.38583234],\n",
       "       [ 1.83886803],\n",
       "       [-0.77085356],\n",
       "       [-1.33828303],\n",
       "       [-1.33828303],\n",
       "       [-0.88433946],\n",
       "       [ 1.3853784 ],\n",
       "       [-0.42971497],\n",
       "       [-1.11199216],\n",
       "       [ 0.47749126],\n",
       "       [-0.88365854],\n",
       "       [ 1.38560537],\n",
       "       [ 0.02332071],\n",
       "       [ 1.38492445],\n",
       "       [ 1.839095  ],\n",
       "       [-0.88411248],\n",
       "       [-0.88433946],\n",
       "       [-0.43062286],\n",
       "       [-0.88433946],\n",
       "       [ 1.38515143],\n",
       "       [ 0.47749126],\n",
       "       [ 1.38515143],\n",
       "       [ 0.4779452 ],\n",
       "       [-1.33828303],\n",
       "       [ 0.93143483],\n",
       "       [ 1.38560537],\n",
       "       [ 0.93211574],\n",
       "       [ 0.47749126],\n",
       "       [-0.88433946],\n",
       "       [ 0.93188877],\n",
       "       [-0.88456643],\n",
       "       [-0.77085356],\n",
       "       [ 1.38605931],\n",
       "       [-1.11153821],\n",
       "       [-0.88433946],\n",
       "       [ 0.93143483],\n",
       "       [ 0.02377466],\n",
       "       [ 1.83932197],\n",
       "       [ 0.47771823],\n",
       "       [ 0.93098088],\n",
       "       [-0.43016891],\n",
       "       [-1.11131124],\n",
       "       [ 0.02377466],\n",
       "       [ 1.3853784 ],\n",
       "       [ 1.83932197],\n",
       "       [-1.33873697],\n",
       "       [-0.88433946],\n",
       "       [ 0.02354769],\n",
       "       [-0.42971497],\n",
       "       [ 0.02354769],\n",
       "       [-0.77039962],\n",
       "       [-0.77062659],\n",
       "       [-0.77085356],\n",
       "       [ 0.9316618 ],\n",
       "       [-0.43039589],\n",
       "       [ 1.83977591],\n",
       "       [-1.11153821],\n",
       "       [ 0.47771823],\n",
       "       [-0.88388551],\n",
       "       [-0.43084983],\n",
       "       [-0.77062659]])"
      ]
     },
     "execution_count": 256,
     "metadata": {},
     "output_type": "execute_result"
    }
   ],
   "source": [
    "X_train = scaler.transform(X_train)\n",
    "X_test = scaler.transform(X_test)\n",
    "X_train"
   ]
  },
  {
   "cell_type": "code",
   "execution_count": 257,
   "metadata": {},
   "outputs": [],
   "source": [
    "#define a MLP classifier here\n",
    "mlp = MLPClassifier(hidden_layer_sizes=(30,30,30),max_iter=10000)"
   ]
  },
  {
   "cell_type": "code",
   "execution_count": 258,
   "metadata": {},
   "outputs": [
    {
     "data": {
      "text/plain": [
       "MLPClassifier(activation='relu', alpha=0.0001, batch_size='auto', beta_1=0.9,\n",
       "       beta_2=0.999, early_stopping=False, epsilon=1e-08,\n",
       "       hidden_layer_sizes=(30, 30, 30), learning_rate='constant',\n",
       "       learning_rate_init=0.001, max_iter=10000, momentum=0.9,\n",
       "       nesterovs_momentum=True, power_t=0.5, random_state=None,\n",
       "       shuffle=True, solver='adam', tol=0.0001, validation_fraction=0.1,\n",
       "       verbose=False, warm_start=False)"
      ]
     },
     "execution_count": 258,
     "metadata": {},
     "output_type": "execute_result"
    }
   ],
   "source": [
    "mlp.fit(X=X_train,y=Y_train.astype('int'))"
   ]
  },
  {
   "cell_type": "code",
   "execution_count": 259,
   "metadata": {},
   "outputs": [
    {
     "name": "stdout",
     "output_type": "stream",
     "text": [
      "[1331 1360 1349 1330 1417 1271 1349 1360 1376 1376 1376 1403 1322 1330 1322\n",
      " 1417 1425 1360 1360 1417 1403 1330 1271 1330 1330 1331 1360 1425 1322 1331\n",
      " 1349 1322 1403 1417 1360 1360 1349 1403 1360 1403 1425 1330 1322 1330 1417\n",
      " 1349 1290 1322 1425 1425 1360 1271 1360 1376 1417 1331 1330 1360 1417 1360\n",
      " 1349 1376 1322 1349 1331 1403 1360 1376 1403 1322 1331 1417 1349 1376 1322\n",
      " 1376 1331 1360 1360 1376 1331 1376 1322 1349 1376 1330 1376 1271]\n"
     ]
    }
   ],
   "source": [
    "predictions = mlp.predict(X_test)\n",
    "print(predictions)"
   ]
  },
  {
   "cell_type": "code",
   "execution_count": 260,
   "metadata": {},
   "outputs": [
    {
     "name": "stdout",
     "output_type": "stream",
     "text": [
      "[ 1347.5  1416.   1364.2  1360.   1387.2  1277.2  1395.9  1393.8  1444.8\n",
      "  1386.7  1373.1  1391.   1330.1  1338.9  1294.9  1423.1  1419.9  1405.4\n",
      "  1420.5  1385.9  1425.5  1338.2  1329.   1304.9  1305.3  1368.6  1399.4\n",
      "  1395.5  1337.7  1326.9  1371.2  1304.8  1430.4  1399.3  1362.9  1399.7\n",
      "  1416.2  1434.3  1373.9  1384.1  1398.2  1313.3  1368.   1308.5  1442.\n",
      "  1341.9  1287.5  1377.8  1444.8  1430.5  1362.5  1314.2  1373.7  1393.4\n",
      "  1392.8  1324.2  1371.9  1415.8  1389.6  1387.4  1401.2  1393.4  1356.7\n",
      "  1425.1  1386.7  1425.8  1387.7  1426.8  1420.5  1286.4  1323.   1458.8\n",
      "  1401.4  1411.4  1373.   1379.8  1354.8  1393.5  1380.9  1416.7  1392.\n",
      "  1405.7  1313.9  1390.3  1440.5  1313.3  1421.9  1287.5]\n"
     ]
    }
   ],
   "source": [
    "print(Y_test)"
   ]
  },
  {
   "cell_type": "code",
   "execution_count": 261,
   "metadata": {},
   "outputs": [
    {
     "name": "stdout",
     "output_type": "stream",
     "text": [
      "[[0 0 0 ..., 0 0 0]\n",
      " [1 0 0 ..., 0 0 0]\n",
      " [0 0 0 ..., 0 0 0]\n",
      " ..., \n",
      " [0 0 0 ..., 0 0 0]\n",
      " [0 0 0 ..., 0 0 0]\n",
      " [0 0 0 ..., 0 0 0]]\n"
     ]
    }
   ],
   "source": [
    "from sklearn.metrics import classification_report,confusion_matrix\n",
    "print(confusion_matrix(Y_test.astype('int'), predictions))"
   ]
  },
  {
   "cell_type": "code",
   "execution_count": 262,
   "metadata": {},
   "outputs": [
    {
     "name": "stdout",
     "output_type": "stream",
     "text": [
      "             precision    recall  f1-score   support\n",
      "\n",
      "       1271       0.00      0.00      0.00         0\n",
      "       1277       0.00      0.00      0.00         1\n",
      "       1286       0.00      0.00      0.00         1\n",
      "       1287       0.00      0.00      0.00         2\n",
      "       1290       0.00      0.00      0.00         0\n",
      "       1294       0.00      0.00      0.00         1\n",
      "       1304       0.00      0.00      0.00         2\n",
      "       1305       0.00      0.00      0.00         1\n",
      "       1308       0.00      0.00      0.00         1\n",
      "       1313       0.00      0.00      0.00         3\n",
      "       1314       0.00      0.00      0.00         1\n",
      "       1322       0.00      0.00      0.00         0\n",
      "       1323       0.00      0.00      0.00         1\n",
      "       1324       0.00      0.00      0.00         1\n",
      "       1326       0.00      0.00      0.00         1\n",
      "       1329       0.00      0.00      0.00         1\n",
      "       1330       0.00      0.00      0.00         1\n",
      "       1331       0.00      0.00      0.00         0\n",
      "       1337       0.00      0.00      0.00         1\n",
      "       1338       0.00      0.00      0.00         2\n",
      "       1341       0.00      0.00      0.00         1\n",
      "       1347       0.00      0.00      0.00         1\n",
      "       1349       0.00      0.00      0.00         0\n",
      "       1354       0.00      0.00      0.00         1\n",
      "       1356       0.00      0.00      0.00         1\n",
      "       1360       0.00      0.00      0.00         1\n",
      "       1362       0.00      0.00      0.00         2\n",
      "       1364       0.00      0.00      0.00         1\n",
      "       1368       0.00      0.00      0.00         2\n",
      "       1371       0.00      0.00      0.00         2\n",
      "       1373       0.00      0.00      0.00         4\n",
      "       1376       0.00      0.00      0.00         0\n",
      "       1377       0.00      0.00      0.00         1\n",
      "       1379       0.00      0.00      0.00         1\n",
      "       1380       0.00      0.00      0.00         1\n",
      "       1384       0.00      0.00      0.00         1\n",
      "       1385       0.00      0.00      0.00         1\n",
      "       1386       0.00      0.00      0.00         2\n",
      "       1387       0.00      0.00      0.00         3\n",
      "       1389       0.00      0.00      0.00         1\n",
      "       1390       0.00      0.00      0.00         1\n",
      "       1391       0.00      0.00      0.00         1\n",
      "       1392       0.00      0.00      0.00         2\n",
      "       1393       0.00      0.00      0.00         4\n",
      "       1395       0.00      0.00      0.00         2\n",
      "       1398       0.00      0.00      0.00         1\n",
      "       1399       0.00      0.00      0.00         3\n",
      "       1401       0.00      0.00      0.00         2\n",
      "       1403       0.00      0.00      0.00         0\n",
      "       1405       0.00      0.00      0.00         2\n",
      "       1411       0.00      0.00      0.00         1\n",
      "       1415       0.00      0.00      0.00         1\n",
      "       1416       0.00      0.00      0.00         3\n",
      "       1417       0.00      0.00      0.00         0\n",
      "       1419       0.00      0.00      0.00         1\n",
      "       1420       0.00      0.00      0.00         2\n",
      "       1421       0.00      0.00      0.00         1\n",
      "       1423       0.00      0.00      0.00         1\n",
      "       1425       0.00      0.00      0.00         3\n",
      "       1426       0.00      0.00      0.00         1\n",
      "       1430       0.00      0.00      0.00         2\n",
      "       1434       0.00      0.00      0.00         1\n",
      "       1440       0.00      0.00      0.00         1\n",
      "       1442       0.00      0.00      0.00         1\n",
      "       1444       0.00      0.00      0.00         2\n",
      "       1458       0.00      0.00      0.00         1\n",
      "\n",
      "avg / total       0.00      0.00      0.00        88\n",
      "\n"
     ]
    },
    {
     "name": "stderr",
     "output_type": "stream",
     "text": [
      "/home/javidi/anaconda3/lib/python3.6/site-packages/sklearn/metrics/classification.py:1135: UndefinedMetricWarning: Precision and F-score are ill-defined and being set to 0.0 in labels with no predicted samples.\n",
      "  'precision', 'predicted', average, warn_for)\n",
      "/home/javidi/anaconda3/lib/python3.6/site-packages/sklearn/metrics/classification.py:1137: UndefinedMetricWarning: Recall and F-score are ill-defined and being set to 0.0 in labels with no true samples.\n",
      "  'recall', 'true', average, warn_for)\n"
     ]
    }
   ],
   "source": [
    "print(classification_report(Y_test.astype('int'), predictions))"
   ]
  },
  {
   "cell_type": "code",
   "execution_count": 263,
   "metadata": {},
   "outputs": [
    {
     "name": "stdout",
     "output_type": "stream",
     "text": [
      "[ 1347.5  1416.   1364.2  1360.   1387.2  1277.2  1395.9  1393.8  1444.8\n",
      "  1386.7  1373.1  1391.   1330.1  1338.9  1294.9  1423.1  1419.9  1405.4\n",
      "  1420.5  1385.9  1425.5  1338.2  1329.   1304.9  1305.3  1368.6  1399.4\n",
      "  1395.5  1337.7  1326.9  1371.2  1304.8  1430.4  1399.3  1362.9  1399.7\n",
      "  1416.2  1434.3  1373.9  1384.1  1398.2  1313.3  1368.   1308.5  1442.\n",
      "  1341.9  1287.5  1377.8  1444.8  1430.5  1362.5  1314.2  1373.7  1393.4\n",
      "  1392.8  1324.2  1371.9  1415.8  1389.6  1387.4  1401.2  1393.4  1356.7\n",
      "  1425.1  1386.7  1425.8  1387.7  1426.8  1420.5  1286.4  1323.   1458.8\n",
      "  1401.4  1411.4  1373.   1379.8  1354.8  1393.5  1380.9  1416.7  1392.\n",
      "  1405.7  1313.9  1390.3  1440.5  1313.3  1421.9  1287.5] [1331 1360 1349 1330 1417 1271 1349 1360 1376 1376 1376 1403 1322 1330 1322\n",
      " 1417 1425 1360 1360 1417 1403 1330 1271 1330 1330 1331 1360 1425 1322 1331\n",
      " 1349 1322 1403 1417 1360 1360 1349 1403 1360 1403 1425 1330 1322 1330 1417\n",
      " 1349 1290 1322 1425 1425 1360 1271 1360 1376 1417 1331 1330 1360 1417 1360\n",
      " 1349 1376 1322 1349 1331 1403 1360 1376 1403 1322 1331 1417 1349 1376 1322\n",
      " 1376 1331 1360 1360 1376 1331 1376 1322 1349 1376 1330 1376 1271]\n"
     ]
    }
   ],
   "source": [
    "print(np.asarray(Y_test),np.asarray(predictions))"
   ]
  },
  {
   "cell_type": "code",
   "execution_count": null,
   "metadata": {
    "collapsed": true
   },
   "outputs": [],
   "source": []
  },
  {
   "cell_type": "code",
   "execution_count": null,
   "metadata": {
    "collapsed": true
   },
   "outputs": [],
   "source": []
  }
 ],
 "metadata": {
  "kernelspec": {
   "display_name": "Python 2",
   "language": "python",
   "name": "python2"
  },
  "language_info": {
   "codemirror_mode": {
    "name": "ipython",
    "version": 3
   },
   "file_extension": ".py",
   "mimetype": "text/x-python",
   "name": "python",
   "nbconvert_exporter": "python",
   "pygments_lexer": "ipython3",
   "version": "3.6.3"
  }
 },
 "nbformat": 4,
 "nbformat_minor": 2
}
