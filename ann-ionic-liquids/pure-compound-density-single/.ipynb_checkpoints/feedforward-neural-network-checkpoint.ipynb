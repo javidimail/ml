{
 "cells": [
  {
   "cell_type": "code",
   "execution_count": 24,
   "metadata": {
    "collapsed": true
   },
   "outputs": [],
   "source": [
    "import numpy as np\n",
    "import matplotlib.pyplot as plt\n",
    "# pip install scipy\n",
    "# pip install sklearn\n",
    "from sklearn.neural_network import MLPRegressor\n",
    "from sklearn.model_selection import train_test_split\n",
    "from sklearn.preprocessing import StandardScaler"
   ]
  },
  {
   "cell_type": "code",
   "execution_count": 25,
   "metadata": {},
   "outputs": [
    {
     "name": "stdout",
     "output_type": "stream",
     "text": [
      "/home/javidi/.conda/envs/py27/bin/python\n"
     ]
    }
   ],
   "source": [
    "from sys import executable\n",
    "print(executable)"
   ]
  },
  {
   "cell_type": "code",
   "execution_count": 26,
   "metadata": {
    "collapsed": true
   },
   "outputs": [],
   "source": [
    "import pandas as pd #should be installed via conda install pandas"
   ]
  },
  {
   "cell_type": "code",
   "execution_count": 27,
   "metadata": {},
   "outputs": [
    {
     "name": "stderr",
     "output_type": "stream",
     "text": [
      "/home/javidi/.conda/envs/py27/lib/python2.7/site-packages/ipykernel_launcher.py:1: ParserWarning: Falling back to the 'python' engine because the 'c' engine does not support regex separators (separators > 1 char and different from '\\s+' are interpreted as regex); you can avoid this warning by specifying engine='python'.\n",
      "  \"\"\"Entry point for launching an IPython kernel.\n"
     ]
    }
   ],
   "source": [
    "il_df = pd.read_csv('nist-data-set.dat',header=None,skiprows=1,\\\n",
    "                    delimiter='\\s',names=['Temp','Pressure','Density','plusminus','Denisty_std'])"
   ]
  },
  {
   "cell_type": "code",
   "execution_count": 28,
   "metadata": {},
   "outputs": [
    {
     "data": {
      "text/html": [
       "<div>\n",
       "<style>\n",
       "    .dataframe thead tr:only-child th {\n",
       "        text-align: right;\n",
       "    }\n",
       "\n",
       "    .dataframe thead th {\n",
       "        text-align: left;\n",
       "    }\n",
       "\n",
       "    .dataframe tbody tr th {\n",
       "        vertical-align: top;\n",
       "    }\n",
       "</style>\n",
       "<table border=\"1\" class=\"dataframe\">\n",
       "  <thead>\n",
       "    <tr style=\"text-align: right;\">\n",
       "      <th></th>\n",
       "      <th>Temp</th>\n",
       "      <th>Pressure</th>\n",
       "      <th>Density</th>\n",
       "      <th>Denisty_std</th>\n",
       "    </tr>\n",
       "  </thead>\n",
       "  <tbody>\n",
       "    <tr>\n",
       "      <th>0</th>\n",
       "      <td>273.13</td>\n",
       "      <td>50000</td>\n",
       "      <td>1425.4</td>\n",
       "      <td>2.7</td>\n",
       "    </tr>\n",
       "    <tr>\n",
       "      <th>1</th>\n",
       "      <td>273.13</td>\n",
       "      <td>99920</td>\n",
       "      <td>1449.1</td>\n",
       "      <td>3.7</td>\n",
       "    </tr>\n",
       "    <tr>\n",
       "      <th>2</th>\n",
       "      <td>273.14</td>\n",
       "      <td>20000</td>\n",
       "      <td>1408.0</td>\n",
       "      <td>2.1</td>\n",
       "    </tr>\n",
       "    <tr>\n",
       "      <th>3</th>\n",
       "      <td>273.14</td>\n",
       "      <td>69900</td>\n",
       "      <td>1435.5</td>\n",
       "      <td>3.1</td>\n",
       "    </tr>\n",
       "    <tr>\n",
       "      <th>4</th>\n",
       "      <td>273.14</td>\n",
       "      <td>120000</td>\n",
       "      <td>1457.5</td>\n",
       "      <td>4.1</td>\n",
       "    </tr>\n",
       "  </tbody>\n",
       "</table>\n",
       "</div>"
      ],
      "text/plain": [
       "     Temp  Pressure  Density  Denisty_std\n",
       "0  273.13     50000   1425.4          2.7\n",
       "1  273.13     99920   1449.1          3.7\n",
       "2  273.14     20000   1408.0          2.1\n",
       "3  273.14     69900   1435.5          3.1\n",
       "4  273.14    120000   1457.5          4.1"
      ]
     },
     "execution_count": 28,
     "metadata": {},
     "output_type": "execute_result"
    }
   ],
   "source": [
    "il_df = il_df.drop('plusminus',axis=1)\n",
    "il_df.head()"
   ]
  },
  {
   "cell_type": "code",
   "execution_count": 29,
   "metadata": {},
   "outputs": [
    {
     "name": "stdout",
     "output_type": "stream",
     "text": [
      "<class 'pandas.core.frame.DataFrame'>\n",
      "RangeIndex: 266 entries, 0 to 265\n",
      "Data columns (total 4 columns):\n",
      "Temp           266 non-null float64\n",
      "Pressure       266 non-null int64\n",
      "Density        266 non-null float64\n",
      "Denisty_std    266 non-null float64\n",
      "dtypes: float64(3), int64(1)\n",
      "memory usage: 8.4 KB\n"
     ]
    }
   ],
   "source": [
    "il_df.info()"
   ]
  },
  {
   "cell_type": "code",
   "execution_count": 30,
   "metadata": {
    "collapsed": true
   },
   "outputs": [],
   "source": [
    "il_df_train, il_df_test = train_test_split(il_df, test_size=0.33, random_state=42)"
   ]
  },
  {
   "cell_type": "code",
   "execution_count": 31,
   "metadata": {},
   "outputs": [
    {
     "name": "stdout",
     "output_type": "stream",
     "text": [
      "88\n",
      "178\n",
      "<class 'pandas.core.frame.DataFrame'>\n",
      "Int64Index: 88 entries, 181 to 252\n",
      "Data columns (total 4 columns):\n",
      "Temp           88 non-null float64\n",
      "Pressure       88 non-null int64\n",
      "Density        88 non-null float64\n",
      "Denisty_std    88 non-null float64\n",
      "dtypes: float64(3), int64(1)\n",
      "memory usage: 3.4 KB\n"
     ]
    }
   ],
   "source": [
    "print(len(il_df_test))\n",
    "print(len(il_df_train))\n",
    "il_df_train.head()\n",
    "il_df_test.info()"
   ]
  },
  {
   "cell_type": "code",
   "execution_count": 32,
   "metadata": {
    "collapsed": true
   },
   "outputs": [],
   "source": [
    "scaler = StandardScaler()"
   ]
  },
  {
   "cell_type": "code",
   "execution_count": 33,
   "metadata": {
    "collapsed": true
   },
   "outputs": [],
   "source": [
    "il_array_train = il_df_train.values\n",
    "il_array_test = il_df_test.values"
   ]
  },
  {
   "cell_type": "code",
   "execution_count": 34,
   "metadata": {
    "collapsed": true
   },
   "outputs": [],
   "source": [
    "X_train = il_array_train[:,0:2]\n",
    "Y_train = il_array_train[:,2]\n",
    "X_test = il_array_test[:,0:2]\n",
    "Y_test = il_array_test[:,2]\n",
    "from sklearn import preprocessing"
   ]
  },
  {
   "cell_type": "code",
   "execution_count": 35,
   "metadata": {
    "collapsed": true
   },
   "outputs": [],
   "source": [
    "X_train = preprocessing.scale(X_train,axis=0)\n",
    "X_test = preprocessing.scale(X_test,axis=0)"
   ]
  },
  {
   "cell_type": "code",
   "execution_count": 63,
   "metadata": {},
   "outputs": [
    {
     "data": {
      "text/plain": [
       "array([-0.88411248, -1.33851   , -0.77108054,  0.47771823,  1.38515143,\n",
       "        0.02377466,  0.02354769,  0.47749126,  1.3853784 , -0.8832046 ,\n",
       "        1.83954894, -1.11131124,  0.93143483,  0.47771823,  0.02354769,\n",
       "        0.47749126, -1.33828303, -0.88433946,  0.47771823,  0.47749126,\n",
       "       -0.42880708, -0.88411248,  1.83932197, -0.77085356,  1.3853784 ,\n",
       "        0.47749126, -1.11131124, -1.33828303, -1.11131124, -1.11131124,\n",
       "       -1.11108427,  0.02354769, -0.43062286,  0.02354769, -1.11153821,\n",
       "        0.02354769, -0.77085356,  0.47771823,  0.93143483, -0.43039589,\n",
       "       -0.88433946, -0.77085356,  0.02377466,  0.93143483, -1.11108427,\n",
       "        1.38515143,  0.47749126, -1.11131124,  1.83932197,  0.47749126,\n",
       "       -1.33873697,  1.38515143, -0.77062659,  0.93120786,  0.93098088,\n",
       "       -0.77085356, -1.11131124, -0.88411248,  0.47771823,  0.02377466,\n",
       "       -1.33828303,  1.83954894,  0.93188877, -1.11131124,  0.47749126,\n",
       "       -1.33851   , -0.43039589, -1.11131124,  1.38560537,  0.93120786,\n",
       "        0.02354769, -0.88411248,  0.02332071, -0.43016891,  1.83886803,\n",
       "        0.93143483, -0.88388551,  0.9316618 , -0.88411248, -1.11108427,\n",
       "        0.47771823,  0.02377466, -1.11108427, -0.43039589,  0.02354769,\n",
       "       -1.11153821,  0.93143483,  0.93143483, -0.77085356, -1.11108427,\n",
       "        1.38515143, -0.88456643, -0.77085356,  0.93143483,  0.02400163,\n",
       "       -1.11108427,  0.02354769,  1.83932197, -1.33851   , -0.43084983,\n",
       "       -0.88433946,  0.02332071,  1.83886803,  0.9316618 ,  1.83932197,\n",
       "       -0.88433946,  0.47726428, -0.77085356, -1.11131124,  1.38515143,\n",
       "       -1.33828303,  0.47749126,  0.93120786,  1.38515143, -0.43039589,\n",
       "       -0.77085356, -0.77085356,  1.38583234,  1.83886803, -0.77085356,\n",
       "       -1.33828303, -1.33828303, -0.88433946,  1.3853784 , -0.42971497,\n",
       "       -1.11199216,  0.47749126, -0.88365854,  1.38560537,  0.02332071,\n",
       "        1.38492445,  1.839095  , -0.88411248, -0.88433946, -0.43062286,\n",
       "       -0.88433946,  1.38515143,  0.47749126,  1.38515143,  0.4779452 ,\n",
       "       -1.33828303,  0.93143483,  1.38560537,  0.93211574,  0.47749126,\n",
       "       -0.88433946,  0.93188877, -0.88456643, -0.77085356,  1.38605931,\n",
       "       -1.11153821, -0.88433946,  0.93143483,  0.02377466,  1.83932197,\n",
       "        0.47771823,  0.93098088, -0.43016891, -1.11131124,  0.02377466,\n",
       "        1.3853784 ,  1.83932197, -1.33873697, -0.88433946,  0.02354769,\n",
       "       -0.42971497,  0.02354769, -0.77039962, -0.77062659, -0.77085356,\n",
       "        0.9316618 , -0.43039589,  1.83977591, -1.11153821,  0.47771823,\n",
       "       -0.88388551, -0.43084983, -0.77062659])"
      ]
     },
     "execution_count": 63,
     "metadata": {},
     "output_type": "execute_result"
    }
   ],
   "source": [
    "X_train.shape\n",
    "Y_train = np.asarray(Y_train)\n",
    "Y_train.shape\n",
    "Y_train\n",
    "X_train[:,0]"
   ]
  },
  {
   "cell_type": "code",
   "execution_count": 46,
   "metadata": {},
   "outputs": [],
   "source": [
    "#define a MLP classifier here\n",
    "mlp = MLPRegressor(solver='lbfgs', alpha=1e-5, hidden_layer_sizes=(5, 2,10), random_state=1, max_iter=2000)"
   ]
  },
  {
   "cell_type": "code",
   "execution_count": 47,
   "metadata": {},
   "outputs": [
    {
     "data": {
      "text/plain": [
       "MLPRegressor(activation='relu', alpha=1e-05, batch_size='auto', beta_1=0.9,\n",
       "       beta_2=0.999, early_stopping=False, epsilon=1e-08,\n",
       "       hidden_layer_sizes=(5, 2, 10), learning_rate='constant',\n",
       "       learning_rate_init=0.001, max_iter=2000, momentum=0.9,\n",
       "       nesterovs_momentum=True, power_t=0.5, random_state=1, shuffle=True,\n",
       "       solver='lbfgs', tol=0.0001, validation_fraction=0.1, verbose=False,\n",
       "       warm_start=False)"
      ]
     },
     "execution_count": 47,
     "metadata": {},
     "output_type": "execute_result"
    }
   ],
   "source": [
    "mlp.fit(X=X_train,y=Y_train)"
   ]
  },
  {
   "cell_type": "code",
   "execution_count": 48,
   "metadata": {},
   "outputs": [
    {
     "name": "stdout",
     "output_type": "stream",
     "text": [
      "[ 1346.8775802   1420.47707553  1364.76039352  1359.80168351  1392.20128636\n",
      "  1285.32226459  1397.65565098  1395.07813551  1461.02781795  1389.94904432\n",
      "  1378.2685989   1394.45119235  1329.60480239  1338.04246902  1300.47639237\n",
      "  1428.36430746  1424.72443037  1407.41693893  1427.08462366  1391.11979007\n",
      "  1431.45060865  1337.46268187  1328.7529314   1311.13874036  1311.40919141\n",
      "  1367.63284358  1400.87663131  1400.65572741  1337.11264854  1331.5233117\n",
      "  1370.84943228  1307.95530112  1437.69480736  1403.20730592  1367.39773504\n",
      "  1401.1795378   1426.7839861   1442.80094544  1376.48956744  1388.27963057\n",
      "  1403.123796    1316.62660364  1373.26103973  1313.46432045  1452.62155425\n",
      "  1347.22025283  1295.17092036  1387.75175943  1455.59060001  1437.06323378\n",
      "  1367.05526524  1314.31931912  1376.36191754  1396.16110257  1397.17359277\n",
      "  1329.65456407  1374.19315308  1420.23818274  1394.33801942  1388.7328614\n",
      "  1404.74190183  1396.12741077  1358.3627723   1441.2901291   1389.62278063\n",
      "  1431.77885802  1389.01382381  1433.21182043  1425.33405986  1294.44091974\n",
      "  1328.85773217  1479.77582745  1405.04653083  1414.7070141   1380.44158051\n",
      "  1383.82662402  1353.12532486  1394.79377431  1382.71460504  1420.84210819\n",
      "  1396.7239962   1408.51628412  1315.23646776  1390.53313477  1453.77474645\n",
      "  1316.64020352  1427.07672634  1292.56781628]\n"
     ]
    }
   ],
   "source": [
    "predictions = mlp.predict(X_test)\n",
    "print(predictions)"
   ]
  },
  {
   "cell_type": "code",
   "execution_count": 49,
   "metadata": {},
   "outputs": [
    {
     "name": "stdout",
     "output_type": "stream",
     "text": [
      "[ 1347.5  1416.   1364.2  1360.   1387.2  1277.2  1395.9  1393.8  1444.8\n",
      "  1386.7  1373.1  1391.   1330.1  1338.9  1294.9  1423.1  1419.9  1405.4\n",
      "  1420.5  1385.9  1425.5  1338.2  1329.   1304.9  1305.3  1368.6  1399.4\n",
      "  1395.5  1337.7  1326.9  1371.2  1304.8  1430.4  1399.3  1362.9  1399.7\n",
      "  1416.2  1434.3  1373.9  1384.1  1398.2  1313.3  1368.   1308.5  1442.\n",
      "  1341.9  1287.5  1377.8  1444.8  1430.5  1362.5  1314.2  1373.7  1393.4\n",
      "  1392.8  1324.2  1371.9  1415.8  1389.6  1387.4  1401.2  1393.4  1356.7\n",
      "  1425.1  1386.7  1425.8  1387.7  1426.8  1420.5  1286.4  1323.   1458.8\n",
      "  1401.4  1411.4  1373.   1379.8  1354.8  1393.5  1380.9  1416.7  1392.\n",
      "  1405.7  1313.9  1390.3  1440.5  1313.3  1421.9  1287.5]\n"
     ]
    }
   ],
   "source": [
    "print(Y_test)"
   ]
  },
  {
   "cell_type": "code",
   "execution_count": 70,
   "metadata": {},
   "outputs": [
    {
     "data": {
      "text/plain": [
       "<matplotlib.collections.PathCollection at 0x7f180e465b90>"
      ]
     },
     "execution_count": 70,
     "metadata": {},
     "output_type": "execute_result"
    },
    {
     "data": {
      "image/png": "[encoded data removed]",
      "text/plain": [
       "<matplotlib.figure.Figure at 0x7f180e69e990>"
      ]
     },
     "metadata": {},
     "output_type": "display_data"
    }
   ],
   "source": [
    "from mpl_toolkits.mplot3d import Axes3D\n",
    "fig = plt.figure()\n",
    "%matplotlib inline\n",
    "ax = fig.gca(projection='3d')\n",
    "plt.scatter(x=X_train[:,0],y=X_train[:,1],c=Y_train)"
   ]
  },
  {
   "cell_type": "code",
   "execution_count": 74,
   "metadata": {},
   "outputs": [
    {
     "data": {
      "text/plain": [
       "<matplotlib.collections.PathCollection at 0x7f180e227ed0>"
      ]
     },
     "execution_count": 74,
     "metadata": {},
     "output_type": "execute_result"
    },
    {
     "data": {
      "image/png": "[encoded data removed]",
      "text/plain": [
       "<matplotlib.figure.Figure at 0x7f180e2893d0>"
      ]
     },
     "metadata": {},
     "output_type": "display_data"
    }
   ],
   "source": [
    "plt.scatter(x=X_test[:,0],y=X_test[:,1],c=predictions)"
   ]
  },
  {
   "cell_type": "code",
   "execution_count": 263,
   "metadata": {},
   "outputs": [
    {
     "name": "stdout",
     "output_type": "stream",
     "text": [
      "[ 1347.5  1416.   1364.2  1360.   1387.2  1277.2  1395.9  1393.8  1444.8\n",
      "  1386.7  1373.1  1391.   1330.1  1338.9  1294.9  1423.1  1419.9  1405.4\n",
      "  1420.5  1385.9  1425.5  1338.2  1329.   1304.9  1305.3  1368.6  1399.4\n",
      "  1395.5  1337.7  1326.9  1371.2  1304.8  1430.4  1399.3  1362.9  1399.7\n",
      "  1416.2  1434.3  1373.9  1384.1  1398.2  1313.3  1368.   1308.5  1442.\n",
      "  1341.9  1287.5  1377.8  1444.8  1430.5  1362.5  1314.2  1373.7  1393.4\n",
      "  1392.8  1324.2  1371.9  1415.8  1389.6  1387.4  1401.2  1393.4  1356.7\n",
      "  1425.1  1386.7  1425.8  1387.7  1426.8  1420.5  1286.4  1323.   1458.8\n",
      "  1401.4  1411.4  1373.   1379.8  1354.8  1393.5  1380.9  1416.7  1392.\n",
      "  1405.7  1313.9  1390.3  1440.5  1313.3  1421.9  1287.5] [1331 1360 1349 1330 1417 1271 1349 1360 1376 1376 1376 1403 1322 1330 1322\n",
      " 1417 1425 1360 1360 1417 1403 1330 1271 1330 1330 1331 1360 1425 1322 1331\n",
      " 1349 1322 1403 1417 1360 1360 1349 1403 1360 1403 1425 1330 1322 1330 1417\n",
      " 1349 1290 1322 1425 1425 1360 1271 1360 1376 1417 1331 1330 1360 1417 1360\n",
      " 1349 1376 1322 1349 1331 1403 1360 1376 1403 1322 1331 1417 1349 1376 1322\n",
      " 1376 1331 1360 1360 1376 1331 1376 1322 1349 1376 1330 1376 1271]\n"
     ]
    }
   ],
   "source": [
    "print(np.asarray(Y_test),np.asarray(predictions))"
   ]
  },
  {
   "cell_type": "code",
   "execution_count": 78,
   "metadata": {},
   "outputs": [
    {
     "data": {
      "text/plain": [
       "Text(0,0.5,u'Prediction')"
      ]
     },
     "execution_count": 78,
     "metadata": {},
     "output_type": "execute_result"
    },
    {
     "data": {
      "image/png": "[encoded data removed]",
      "text/plain": [
       "<matplotlib.figure.Figure at 0x7f180e2a1a50>"
      ]
     },
     "metadata": {},
     "output_type": "display_data"
    }
   ],
   "source": [
    "x_line = np.linspace(min(Y_train),max(Y_train),1000)\n",
    "plt.plot(x_line,x_line)\n",
    "plt.scatter(Y_test,predictions)\n",
    "plt.xlabel('Experiment')\n",
    "plt.ylabel('Prediction')"
   ]
  },
  {
   "cell_type": "code",
   "execution_count": null,
   "metadata": {
    "collapsed": true
   },
   "outputs": [],
   "source": []
  }
 ],
 "metadata": {
  "kernelspec": {
   "display_name": "Python 2",
   "language": "python",
   "name": "python2"
  },
  "language_info": {
   "codemirror_mode": {
    "name": "ipython",
    "version": 2
   },
   "file_extension": ".py",
   "mimetype": "text/x-python",
   "name": "python",
   "nbconvert_exporter": "python",
   "pygments_lexer": "ipython2",
   "version": "2.7.14"
  }
 },
 "nbformat": 4,
 "nbformat_minor": 2
}
