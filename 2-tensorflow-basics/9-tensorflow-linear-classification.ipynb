{
 "cells": [
  {
   "cell_type": "code",
   "execution_count": 2,
   "metadata": {},
   "outputs": [],
   "source": [
    "import pandas as pd"
   ]
  },
  {
   "cell_type": "code",
   "execution_count": 6,
   "metadata": {},
   "outputs": [],
   "source": [
    "census = pd.read_csv('census_data.csv')"
   ]
  },
  {
   "cell_type": "code",
   "execution_count": 7,
   "metadata": {},
   "outputs": [
    {
     "name": "stdout",
     "output_type": "stream",
     "text": [
      "<class 'pandas.core.frame.DataFrame'>\n",
      "RangeIndex: 32561 entries, 0 to 32560\n",
      "Data columns (total 14 columns):\n",
      "age               32561 non-null int64\n",
      "workclass         32561 non-null object\n",
      "education         32561 non-null object\n",
      "education_num     32561 non-null int64\n",
      "marital_status    32561 non-null object\n",
      "occupation        32561 non-null object\n",
      "relationship      32561 non-null object\n",
      "race              32561 non-null object\n",
      "gender            32561 non-null object\n",
      "capital_gain      32561 non-null int64\n",
      "capital_loss      32561 non-null int64\n",
      "hours_per_week    32561 non-null int64\n",
      "native_country    32561 non-null object\n",
      "income_bracket    32561 non-null object\n",
      "dtypes: int64(5), object(9)\n",
      "memory usage: 3.5+ MB\n"
     ]
    }
   ],
   "source": [
    "census.info()"
   ]
  },
  {
   "cell_type": "code",
   "execution_count": 8,
   "metadata": {},
   "outputs": [
    {
     "data": {
      "text/html": [
       "<div>\n",
       "<table border=\"1\" class=\"dataframe\">\n",
       "  <thead>\n",
       "    <tr style=\"text-align: right;\">\n",
       "      <th></th>\n",
       "      <th>age</th>\n",
       "      <th>workclass</th>\n",
       "      <th>education</th>\n",
       "      <th>education_num</th>\n",
       "      <th>marital_status</th>\n",
       "      <th>occupation</th>\n",
       "      <th>relationship</th>\n",
       "      <th>race</th>\n",
       "      <th>gender</th>\n",
       "      <th>capital_gain</th>\n",
       "      <th>capital_loss</th>\n",
       "      <th>hours_per_week</th>\n",
       "      <th>native_country</th>\n",
       "      <th>income_bracket</th>\n",
       "    </tr>\n",
       "  </thead>\n",
       "  <tbody>\n",
       "    <tr>\n",
       "      <th>0</th>\n",
       "      <td>39</td>\n",
       "      <td>State-gov</td>\n",
       "      <td>Bachelors</td>\n",
       "      <td>13</td>\n",
       "      <td>Never-married</td>\n",
       "      <td>Adm-clerical</td>\n",
       "      <td>Not-in-family</td>\n",
       "      <td>White</td>\n",
       "      <td>Male</td>\n",
       "      <td>2174</td>\n",
       "      <td>0</td>\n",
       "      <td>40</td>\n",
       "      <td>United-States</td>\n",
       "      <td>&lt;=50K</td>\n",
       "    </tr>\n",
       "    <tr>\n",
       "      <th>1</th>\n",
       "      <td>50</td>\n",
       "      <td>Self-emp-not-inc</td>\n",
       "      <td>Bachelors</td>\n",
       "      <td>13</td>\n",
       "      <td>Married-civ-spouse</td>\n",
       "      <td>Exec-managerial</td>\n",
       "      <td>Husband</td>\n",
       "      <td>White</td>\n",
       "      <td>Male</td>\n",
       "      <td>0</td>\n",
       "      <td>0</td>\n",
       "      <td>13</td>\n",
       "      <td>United-States</td>\n",
       "      <td>&lt;=50K</td>\n",
       "    </tr>\n",
       "    <tr>\n",
       "      <th>2</th>\n",
       "      <td>38</td>\n",
       "      <td>Private</td>\n",
       "      <td>HS-grad</td>\n",
       "      <td>9</td>\n",
       "      <td>Divorced</td>\n",
       "      <td>Handlers-cleaners</td>\n",
       "      <td>Not-in-family</td>\n",
       "      <td>White</td>\n",
       "      <td>Male</td>\n",
       "      <td>0</td>\n",
       "      <td>0</td>\n",
       "      <td>40</td>\n",
       "      <td>United-States</td>\n",
       "      <td>&lt;=50K</td>\n",
       "    </tr>\n",
       "    <tr>\n",
       "      <th>3</th>\n",
       "      <td>53</td>\n",
       "      <td>Private</td>\n",
       "      <td>11th</td>\n",
       "      <td>7</td>\n",
       "      <td>Married-civ-spouse</td>\n",
       "      <td>Handlers-cleaners</td>\n",
       "      <td>Husband</td>\n",
       "      <td>Black</td>\n",
       "      <td>Male</td>\n",
       "      <td>0</td>\n",
       "      <td>0</td>\n",
       "      <td>40</td>\n",
       "      <td>United-States</td>\n",
       "      <td>&lt;=50K</td>\n",
       "    </tr>\n",
       "    <tr>\n",
       "      <th>4</th>\n",
       "      <td>28</td>\n",
       "      <td>Private</td>\n",
       "      <td>Bachelors</td>\n",
       "      <td>13</td>\n",
       "      <td>Married-civ-spouse</td>\n",
       "      <td>Prof-specialty</td>\n",
       "      <td>Wife</td>\n",
       "      <td>Black</td>\n",
       "      <td>Female</td>\n",
       "      <td>0</td>\n",
       "      <td>0</td>\n",
       "      <td>40</td>\n",
       "      <td>Cuba</td>\n",
       "      <td>&lt;=50K</td>\n",
       "    </tr>\n",
       "  </tbody>\n",
       "</table>\n",
       "</div>"
      ],
      "text/plain": [
       "   age          workclass   education  education_num       marital_status  \\\n",
       "0   39          State-gov   Bachelors             13        Never-married   \n",
       "1   50   Self-emp-not-inc   Bachelors             13   Married-civ-spouse   \n",
       "2   38            Private     HS-grad              9             Divorced   \n",
       "3   53            Private        11th              7   Married-civ-spouse   \n",
       "4   28            Private   Bachelors             13   Married-civ-spouse   \n",
       "\n",
       "           occupation    relationship    race   gender  capital_gain  \\\n",
       "0        Adm-clerical   Not-in-family   White     Male          2174   \n",
       "1     Exec-managerial         Husband   White     Male             0   \n",
       "2   Handlers-cleaners   Not-in-family   White     Male             0   \n",
       "3   Handlers-cleaners         Husband   Black     Male             0   \n",
       "4      Prof-specialty            Wife   Black   Female             0   \n",
       "\n",
       "   capital_loss  hours_per_week  native_country income_bracket  \n",
       "0             0              40   United-States          <=50K  \n",
       "1             0              13   United-States          <=50K  \n",
       "2             0              40   United-States          <=50K  \n",
       "3             0              40   United-States          <=50K  \n",
       "4             0              40            Cuba          <=50K  "
      ]
     },
     "execution_count": 8,
     "metadata": {},
     "output_type": "execute_result"
    }
   ],
   "source": [
    "census.head()"
   ]
  },
  {
   "cell_type": "code",
   "execution_count": 9,
   "metadata": {},
   "outputs": [
    {
     "data": {
      "text/plain": [
       "array([' <=50K', ' >50K'], dtype=object)"
      ]
     },
     "execution_count": 9,
     "metadata": {},
     "output_type": "execute_result"
    }
   ],
   "source": [
    "census['income_bracket'].unique()"
   ]
  },
  {
   "cell_type": "code",
   "execution_count": 12,
   "metadata": {},
   "outputs": [],
   "source": [
    "def label_fix(label):\n",
    "    if label == ' <=50K':\n",
    "        return 0\n",
    "    else:\n",
    "        return 1"
   ]
  },
  {
   "cell_type": "code",
   "execution_count": 13,
   "metadata": {},
   "outputs": [],
   "source": [
    "census['income_bracket'] = census['income_bracket'].apply(label_fix)"
   ]
  },
  {
   "cell_type": "code",
   "execution_count": 14,
   "metadata": {},
   "outputs": [
    {
     "name": "stdout",
     "output_type": "stream",
     "text": [
      "<class 'pandas.core.frame.DataFrame'>\n",
      "RangeIndex: 32561 entries, 0 to 32560\n",
      "Data columns (total 14 columns):\n",
      "age               32561 non-null int64\n",
      "workclass         32561 non-null object\n",
      "education         32561 non-null object\n",
      "education_num     32561 non-null int64\n",
      "marital_status    32561 non-null object\n",
      "occupation        32561 non-null object\n",
      "relationship      32561 non-null object\n",
      "race              32561 non-null object\n",
      "gender            32561 non-null object\n",
      "capital_gain      32561 non-null int64\n",
      "capital_loss      32561 non-null int64\n",
      "hours_per_week    32561 non-null int64\n",
      "native_country    32561 non-null object\n",
      "income_bracket    32561 non-null int64\n",
      "dtypes: int64(6), object(8)\n",
      "memory usage: 3.5+ MB\n"
     ]
    }
   ],
   "source": [
    "census.info()"
   ]
  },
  {
   "cell_type": "code",
   "execution_count": 15,
   "metadata": {},
   "outputs": [],
   "source": [
    "from sklearn.model_selection import train_test_split"
   ]
  },
  {
   "cell_type": "code",
   "execution_count": 16,
   "metadata": {},
   "outputs": [],
   "source": [
    "x_data = census.drop('income_bracket', axis=1)"
   ]
  },
  {
   "cell_type": "code",
   "execution_count": 17,
   "metadata": {},
   "outputs": [],
   "source": [
    "y_labels = census['income_bracket']"
   ]
  },
  {
   "cell_type": "code",
   "execution_count": 19,
   "metadata": {},
   "outputs": [],
   "source": [
    " X_train, X_test, y_train, y_test = train_test_split(x_data, y_labels, test_size=0.33, random_state=42)"
   ]
  },
  {
   "cell_type": "code",
   "execution_count": 20,
   "metadata": {},
   "outputs": [
    {
     "data": {
      "text/plain": [
       "Index([u'age', u'workclass', u'education', u'education_num', u'marital_status',\n",
       "       u'occupation', u'relationship', u'race', u'gender', u'capital_gain',\n",
       "       u'capital_loss', u'hours_per_week', u'native_country',\n",
       "       u'income_bracket'],\n",
       "      dtype='object')"
      ]
     },
     "execution_count": 20,
     "metadata": {},
     "output_type": "execute_result"
    }
   ],
   "source": [
    "census.columns"
   ]
  },
  {
   "cell_type": "code",
   "execution_count": 21,
   "metadata": {},
   "outputs": [],
   "source": [
    "import tensorflow as tf"
   ]
  },
  {
   "cell_type": "code",
   "execution_count": 22,
   "metadata": {},
   "outputs": [],
   "source": [
    "gender = tf.feature_column.categorical_column_with_vocabulary_list(\"gender\",['Female','Male'])"
   ]
  },
  {
   "cell_type": "code",
   "execution_count": 37,
   "metadata": {},
   "outputs": [],
   "source": [
    "occupation = tf.feature_column.categorical_column_with_hash_bucket('occupation', hash_bucket_size=1000)\n",
    "marital_status = tf.feature_column.categorical_column_with_hash_bucket('marital_status',hash_bucket_size=1000)\n",
    "relationship = tf.feature_column.categorical_column_with_hash_bucket('relationship', hash_bucket_size=1000)\n",
    "education = tf.feature_column.categorical_column_with_hash_bucket('education',hash_bucket_size=1000)\n",
    "workclass = tf.feature_column.categorical_column_with_hash_bucket('workclass', hash_bucket_size=1000)\n",
    "native_country = tf.feature_column.categorical_column_with_hash_bucket('native_country', hash_bucket_size=1000)"
   ]
  },
  {
   "cell_type": "code",
   "execution_count": 38,
   "metadata": {},
   "outputs": [],
   "source": [
    "age = tf.feature_column.numeric_column('age')\n",
    "education_num = tf.feature_column.numeric_column('education_num')\n",
    "capital_gain = tf.feature_column.numeric_column('capital_gain')\n",
    "capital_loss = tf.feature_column.numeric_column('capital_loss')\n",
    "hours_per_week = tf.feature_column.numeric_column('hours_per_week')"
   ]
  },
  {
   "cell_type": "code",
   "execution_count": 39,
   "metadata": {},
   "outputs": [],
   "source": [
    "feat_cols = [age, workclass, education, education_num, marital_status, occupation, relationship\n",
    "             , gender,capital_gain, capital_loss, hours_per_week, native_country]"
   ]
  },
  {
   "cell_type": "code",
   "execution_count": 40,
   "metadata": {},
   "outputs": [],
   "source": [
    "input_func = tf.estimator.inputs.pandas_input_fn(x=X_train, y=y_train, batch_size=100,num_epochs=None, shuffle=True)"
   ]
  },
  {
   "cell_type": "code",
   "execution_count": 41,
   "metadata": {},
   "outputs": [
    {
     "name": "stdout",
     "output_type": "stream",
     "text": [
      "INFO:tensorflow:Using default config.\n",
      "WARNING:tensorflow:Using temporary folder as model directory: /tmp/tmpS_gD98\n",
      "INFO:tensorflow:Using config: {'_save_checkpoints_secs': 600, '_session_config': None, '_keep_checkpoint_max': 5, '_tf_random_seed': 1, '_keep_checkpoint_every_n_hours': 10000, '_log_step_count_steps': 100, '_save_checkpoints_steps': None, '_model_dir': '/tmp/tmpS_gD98', '_save_summary_steps': 100}\n"
     ]
    }
   ],
   "source": [
    "model = tf.estimator.LinearClassifier(feature_columns=feat_cols)"
   ]
  },
  {
   "cell_type": "code",
   "execution_count": 42,
   "metadata": {},
   "outputs": [
    {
     "name": "stdout",
     "output_type": "stream",
     "text": [
      "INFO:tensorflow:Create CheckpointSaverHook.\n",
      "INFO:tensorflow:Saving checkpoints for 1 into /tmp/tmpS_gD98/model.ckpt.\n",
      "INFO:tensorflow:loss = 69.3147, step = 1\n",
      "INFO:tensorflow:global_step/sec: 301.16\n",
      "INFO:tensorflow:loss = 273.853, step = 101 (0.335 sec)\n",
      "INFO:tensorflow:global_step/sec: 333.403\n",
      "INFO:tensorflow:loss = 1197.8, step = 201 (0.300 sec)\n",
      "INFO:tensorflow:global_step/sec: 371.35\n",
      "INFO:tensorflow:loss = 327.586, step = 301 (0.268 sec)\n",
      "INFO:tensorflow:global_step/sec: 323.358\n",
      "INFO:tensorflow:loss = 88.1405, step = 401 (0.310 sec)\n",
      "INFO:tensorflow:global_step/sec: 358.797\n",
      "INFO:tensorflow:loss = 299.651, step = 501 (0.278 sec)\n",
      "INFO:tensorflow:global_step/sec: 334.941\n",
      "INFO:tensorflow:loss = 59.854, step = 601 (0.299 sec)\n",
      "INFO:tensorflow:global_step/sec: 326.76\n",
      "INFO:tensorflow:loss = 496.279, step = 701 (0.304 sec)\n",
      "INFO:tensorflow:global_step/sec: 334.63\n",
      "INFO:tensorflow:loss = 72.8395, step = 801 (0.299 sec)\n",
      "INFO:tensorflow:global_step/sec: 323.379\n",
      "INFO:tensorflow:loss = 40.5776, step = 901 (0.309 sec)\n",
      "INFO:tensorflow:global_step/sec: 322.425\n",
      "INFO:tensorflow:loss = 51.3446, step = 1001 (0.312 sec)\n",
      "INFO:tensorflow:global_step/sec: 299.051\n",
      "INFO:tensorflow:loss = 50.44, step = 1101 (0.333 sec)\n",
      "INFO:tensorflow:global_step/sec: 341.311\n",
      "INFO:tensorflow:loss = 83.3646, step = 1201 (0.296 sec)\n",
      "INFO:tensorflow:global_step/sec: 316.579\n",
      "INFO:tensorflow:loss = 224.528, step = 1301 (0.314 sec)\n",
      "INFO:tensorflow:global_step/sec: 325.249\n",
      "INFO:tensorflow:loss = 169.01, step = 1401 (0.308 sec)\n",
      "INFO:tensorflow:global_step/sec: 341.737\n",
      "INFO:tensorflow:loss = 345.461, step = 1501 (0.291 sec)\n",
      "INFO:tensorflow:global_step/sec: 277.74\n",
      "INFO:tensorflow:loss = 87.3721, step = 1601 (0.362 sec)\n",
      "INFO:tensorflow:global_step/sec: 327.962\n",
      "INFO:tensorflow:loss = 50.3473, step = 1701 (0.305 sec)\n",
      "INFO:tensorflow:global_step/sec: 299.375\n",
      "INFO:tensorflow:loss = 58.1987, step = 1801 (0.334 sec)\n",
      "INFO:tensorflow:global_step/sec: 334.465\n",
      "INFO:tensorflow:loss = 31.3174, step = 1901 (0.299 sec)\n",
      "INFO:tensorflow:global_step/sec: 339.365\n",
      "INFO:tensorflow:loss = 170.057, step = 2001 (0.293 sec)\n",
      "INFO:tensorflow:global_step/sec: 336.949\n",
      "INFO:tensorflow:loss = 40.7346, step = 2101 (0.300 sec)\n",
      "INFO:tensorflow:global_step/sec: 328.061\n",
      "INFO:tensorflow:loss = 160.8, step = 2201 (0.303 sec)\n",
      "INFO:tensorflow:global_step/sec: 340.08\n",
      "INFO:tensorflow:loss = 31.392, step = 2301 (0.293 sec)\n",
      "INFO:tensorflow:global_step/sec: 337.119\n",
      "INFO:tensorflow:loss = 38.4325, step = 2401 (0.296 sec)\n",
      "INFO:tensorflow:global_step/sec: 334.194\n",
      "INFO:tensorflow:loss = 27.0707, step = 2501 (0.301 sec)\n",
      "INFO:tensorflow:global_step/sec: 338.329\n",
      "INFO:tensorflow:loss = 26.4184, step = 2601 (0.295 sec)\n",
      "INFO:tensorflow:global_step/sec: 340.875\n",
      "INFO:tensorflow:loss = 120.351, step = 2701 (0.292 sec)\n",
      "INFO:tensorflow:global_step/sec: 346.295\n",
      "INFO:tensorflow:loss = 53.7935, step = 2801 (0.289 sec)\n",
      "INFO:tensorflow:global_step/sec: 345.431\n",
      "INFO:tensorflow:loss = 106.132, step = 2901 (0.291 sec)\n",
      "INFO:tensorflow:global_step/sec: 347.552\n",
      "INFO:tensorflow:loss = 46.1222, step = 3001 (0.288 sec)\n",
      "INFO:tensorflow:global_step/sec: 336.447\n",
      "INFO:tensorflow:loss = 105.927, step = 3101 (0.297 sec)\n",
      "INFO:tensorflow:global_step/sec: 340.246\n",
      "INFO:tensorflow:loss = 47.6754, step = 3201 (0.293 sec)\n",
      "INFO:tensorflow:global_step/sec: 333.377\n",
      "INFO:tensorflow:loss = 45.7709, step = 3301 (0.299 sec)\n",
      "INFO:tensorflow:global_step/sec: 309.08\n",
      "INFO:tensorflow:loss = 39.5792, step = 3401 (0.323 sec)\n",
      "INFO:tensorflow:global_step/sec: 341.844\n",
      "INFO:tensorflow:loss = 24.2072, step = 3501 (0.294 sec)\n",
      "INFO:tensorflow:global_step/sec: 340.543\n",
      "INFO:tensorflow:loss = 24.8697, step = 3601 (0.297 sec)\n",
      "INFO:tensorflow:global_step/sec: 320.77\n",
      "INFO:tensorflow:loss = 43.5394, step = 3701 (0.308 sec)\n",
      "INFO:tensorflow:global_step/sec: 331.283\n",
      "INFO:tensorflow:loss = 27.425, step = 3801 (0.302 sec)\n",
      "INFO:tensorflow:global_step/sec: 305.736\n",
      "INFO:tensorflow:loss = 35.2471, step = 3901 (0.327 sec)\n",
      "INFO:tensorflow:global_step/sec: 308.264\n",
      "INFO:tensorflow:loss = 205.896, step = 4001 (0.325 sec)\n",
      "INFO:tensorflow:global_step/sec: 300.868\n",
      "INFO:tensorflow:loss = 202.003, step = 4101 (0.332 sec)\n",
      "INFO:tensorflow:global_step/sec: 309.318\n",
      "INFO:tensorflow:loss = 48.3615, step = 4201 (0.323 sec)\n",
      "INFO:tensorflow:global_step/sec: 337.476\n",
      "INFO:tensorflow:loss = 29.0884, step = 4301 (0.297 sec)\n",
      "INFO:tensorflow:global_step/sec: 307.51\n",
      "INFO:tensorflow:loss = 54.047, step = 4401 (0.326 sec)\n",
      "INFO:tensorflow:global_step/sec: 306.957\n",
      "INFO:tensorflow:loss = 46.3671, step = 4501 (0.326 sec)\n",
      "INFO:tensorflow:global_step/sec: 317.3\n",
      "INFO:tensorflow:loss = 42.8895, step = 4601 (0.315 sec)\n",
      "INFO:tensorflow:global_step/sec: 327.326\n",
      "INFO:tensorflow:loss = 31.7947, step = 4701 (0.304 sec)\n",
      "INFO:tensorflow:global_step/sec: 328.918\n",
      "INFO:tensorflow:loss = 36.0466, step = 4801 (0.305 sec)\n",
      "INFO:tensorflow:global_step/sec: 332.191\n",
      "INFO:tensorflow:loss = 29.1496, step = 4901 (0.301 sec)\n",
      "INFO:tensorflow:global_step/sec: 329.876\n",
      "INFO:tensorflow:loss = 25.7996, step = 5001 (0.303 sec)\n",
      "INFO:tensorflow:global_step/sec: 336.108\n",
      "INFO:tensorflow:loss = 49.7025, step = 5101 (0.303 sec)\n",
      "INFO:tensorflow:global_step/sec: 325.495\n",
      "INFO:tensorflow:loss = 50.9604, step = 5201 (0.304 sec)\n",
      "INFO:tensorflow:global_step/sec: 336.199\n",
      "INFO:tensorflow:loss = 26.7669, step = 5301 (0.297 sec)\n",
      "INFO:tensorflow:global_step/sec: 342.148\n",
      "INFO:tensorflow:loss = 25.218, step = 5401 (0.293 sec)\n",
      "INFO:tensorflow:global_step/sec: 331.645\n",
      "INFO:tensorflow:loss = 45.632, step = 5501 (0.299 sec)\n",
      "INFO:tensorflow:global_step/sec: 320.203\n",
      "INFO:tensorflow:loss = 174.423, step = 5601 (0.313 sec)\n",
      "INFO:tensorflow:global_step/sec: 336.813\n",
      "INFO:tensorflow:loss = 77.8059, step = 5701 (0.297 sec)\n",
      "INFO:tensorflow:global_step/sec: 302.464\n",
      "INFO:tensorflow:loss = 54.1551, step = 5801 (0.329 sec)\n",
      "INFO:tensorflow:global_step/sec: 298.201\n",
      "INFO:tensorflow:loss = 30.7168, step = 5901 (0.337 sec)\n",
      "INFO:tensorflow:global_step/sec: 336.528\n",
      "INFO:tensorflow:loss = 42.0087, step = 6001 (0.299 sec)\n",
      "INFO:tensorflow:global_step/sec: 331.611\n",
      "INFO:tensorflow:loss = 33.3132, step = 6101 (0.298 sec)\n",
      "INFO:tensorflow:global_step/sec: 354.953\n",
      "INFO:tensorflow:loss = 1044.99, step = 6201 (0.284 sec)\n",
      "INFO:tensorflow:global_step/sec: 313.262\n",
      "INFO:tensorflow:loss = 53.5579, step = 6301 (0.319 sec)\n",
      "INFO:tensorflow:global_step/sec: 342.683\n",
      "INFO:tensorflow:loss = 45.501, step = 6401 (0.291 sec)\n",
      "INFO:tensorflow:global_step/sec: 304.291\n",
      "INFO:tensorflow:loss = 141.073, step = 6501 (0.328 sec)\n",
      "INFO:tensorflow:global_step/sec: 326.678\n",
      "INFO:tensorflow:loss = 31.1087, step = 6601 (0.306 sec)\n",
      "INFO:tensorflow:global_step/sec: 321.261\n",
      "INFO:tensorflow:loss = 31.363, step = 6701 (0.313 sec)\n",
      "INFO:tensorflow:global_step/sec: 305.9\n",
      "INFO:tensorflow:loss = 51.3801, step = 6801 (0.327 sec)\n",
      "INFO:tensorflow:global_step/sec: 319.648\n",
      "INFO:tensorflow:loss = 33.6904, step = 6901 (0.312 sec)\n",
      "INFO:tensorflow:global_step/sec: 339.09\n",
      "INFO:tensorflow:loss = 35.4802, step = 7001 (0.293 sec)\n",
      "INFO:tensorflow:global_step/sec: 291.231\n",
      "INFO:tensorflow:loss = 37.2874, step = 7101 (0.346 sec)\n",
      "INFO:tensorflow:global_step/sec: 328.259\n",
      "INFO:tensorflow:loss = 57.3436, step = 7201 (0.302 sec)\n",
      "INFO:tensorflow:global_step/sec: 329.221\n",
      "INFO:tensorflow:loss = 31.6791, step = 7301 (0.305 sec)\n",
      "INFO:tensorflow:global_step/sec: 309.503\n",
      "INFO:tensorflow:loss = 31.8762, step = 7401 (0.322 sec)\n",
      "INFO:tensorflow:global_step/sec: 330.362\n",
      "INFO:tensorflow:loss = 52.3365, step = 7501 (0.304 sec)\n",
      "INFO:tensorflow:global_step/sec: 341.776\n",
      "INFO:tensorflow:loss = 92.4661, step = 7601 (0.292 sec)\n",
      "INFO:tensorflow:global_step/sec: 321.164\n",
      "INFO:tensorflow:loss = 108.78, step = 7701 (0.312 sec)\n",
      "INFO:tensorflow:global_step/sec: 313.871\n",
      "INFO:tensorflow:loss = 31.3876, step = 7801 (0.319 sec)\n",
      "INFO:tensorflow:global_step/sec: 373.706\n",
      "INFO:tensorflow:loss = 32.5358, step = 7901 (0.269 sec)\n",
      "INFO:tensorflow:global_step/sec: 354.927\n",
      "INFO:tensorflow:loss = 42.7316, step = 8001 (0.278 sec)\n",
      "INFO:tensorflow:global_step/sec: 339.485\n",
      "INFO:tensorflow:loss = 22.8818, step = 8101 (0.299 sec)\n",
      "INFO:tensorflow:global_step/sec: 348.956\n",
      "INFO:tensorflow:loss = 18.4751, step = 8201 (0.281 sec)\n",
      "INFO:tensorflow:global_step/sec: 352.124\n",
      "INFO:tensorflow:loss = 137.09, step = 8301 (0.286 sec)\n",
      "INFO:tensorflow:global_step/sec: 356.537\n"
     ]
    },
    {
     "name": "stdout",
     "output_type": "stream",
     "text": [
      "INFO:tensorflow:loss = 43.1185, step = 8401 (0.280 sec)\n",
      "INFO:tensorflow:global_step/sec: 354.024\n",
      "INFO:tensorflow:loss = 26.4992, step = 8501 (0.283 sec)\n",
      "INFO:tensorflow:global_step/sec: 364.491\n",
      "INFO:tensorflow:loss = 35.5907, step = 8601 (0.272 sec)\n",
      "INFO:tensorflow:global_step/sec: 372.692\n",
      "INFO:tensorflow:loss = 28.7204, step = 8701 (0.270 sec)\n",
      "INFO:tensorflow:global_step/sec: 335.661\n",
      "INFO:tensorflow:loss = 128.089, step = 8801 (0.296 sec)\n",
      "INFO:tensorflow:global_step/sec: 346.332\n",
      "INFO:tensorflow:loss = 30.3836, step = 8901 (0.290 sec)\n",
      "INFO:tensorflow:global_step/sec: 365.643\n",
      "INFO:tensorflow:loss = 58.1004, step = 9001 (0.273 sec)\n",
      "INFO:tensorflow:global_step/sec: 334.812\n",
      "INFO:tensorflow:loss = 22.6605, step = 9101 (0.299 sec)\n",
      "INFO:tensorflow:global_step/sec: 344.451\n",
      "INFO:tensorflow:loss = 31.3544, step = 9201 (0.291 sec)\n",
      "INFO:tensorflow:global_step/sec: 329.766\n",
      "INFO:tensorflow:loss = 36.4796, step = 9301 (0.303 sec)\n",
      "INFO:tensorflow:global_step/sec: 348.477\n",
      "INFO:tensorflow:loss = 130.214, step = 9401 (0.285 sec)\n",
      "INFO:tensorflow:global_step/sec: 318.248\n",
      "INFO:tensorflow:loss = 51.938, step = 9501 (0.320 sec)\n",
      "INFO:tensorflow:global_step/sec: 311.118\n",
      "INFO:tensorflow:loss = 38.9832, step = 9601 (0.318 sec)\n",
      "INFO:tensorflow:global_step/sec: 326.903\n",
      "INFO:tensorflow:loss = 37.447, step = 9701 (0.306 sec)\n",
      "INFO:tensorflow:global_step/sec: 340.293\n",
      "INFO:tensorflow:loss = 66.4203, step = 9801 (0.294 sec)\n",
      "INFO:tensorflow:global_step/sec: 319.8\n",
      "INFO:tensorflow:loss = 27.5319, step = 9901 (0.311 sec)\n",
      "INFO:tensorflow:Saving checkpoints for 10000 into /tmp/tmpS_gD98/model.ckpt.\n",
      "INFO:tensorflow:Loss for final step: 42.0286.\n"
     ]
    },
    {
     "data": {
      "text/plain": [
       "<tensorflow.python.estimator.canned.linear.LinearClassifier at 0x7f7bcef23e90>"
      ]
     },
     "execution_count": 42,
     "metadata": {},
     "output_type": "execute_result"
    }
   ],
   "source": [
    "model.train(input_fn=input_func, steps=10000)"
   ]
  },
  {
   "cell_type": "code",
   "execution_count": 43,
   "metadata": {},
   "outputs": [],
   "source": [
    "pred_fn = tf.estimator.inputs.pandas_input_fn(x=X_test, batch_size = len(X_test), shuffle=False)"
   ]
  },
  {
   "cell_type": "code",
   "execution_count": 44,
   "metadata": {},
   "outputs": [],
   "source": [
    "pred_gen = model.predict(input_fn=pred_fn)"
   ]
  },
  {
   "cell_type": "code",
   "execution_count": 45,
   "metadata": {},
   "outputs": [
    {
     "name": "stdout",
     "output_type": "stream",
     "text": [
      "INFO:tensorflow:Restoring parameters from /tmp/tmpS_gD98/model.ckpt-10000\n"
     ]
    }
   ],
   "source": [
    "predictions = list(pred_gen)"
   ]
  },
  {
   "cell_type": "code",
   "execution_count": 46,
   "metadata": {},
   "outputs": [],
   "source": [
    "final_preds = [pred['class_ids'][0] for pred in predictions]"
   ]
  },
  {
   "cell_type": "code",
   "execution_count": 48,
   "metadata": {},
   "outputs": [],
   "source": [
    "#final_preds"
   ]
  },
  {
   "cell_type": "code",
   "execution_count": 49,
   "metadata": {},
   "outputs": [],
   "source": [
    "from sklearn.metrics import classification_report"
   ]
  },
  {
   "cell_type": "code",
   "execution_count": 50,
   "metadata": {},
   "outputs": [
    {
     "name": "stdout",
     "output_type": "stream",
     "text": [
      "             precision    recall  f1-score   support\n",
      "\n",
      "          0       0.86      0.93      0.89      8196\n",
      "          1       0.69      0.50      0.58      2550\n",
      "\n",
      "avg / total       0.82      0.83      0.82     10746\n",
      "\n"
     ]
    }
   ],
   "source": [
    "print(classification_report(y_test, final_preds))"
   ]
  },
  {
   "cell_type": "code",
   "execution_count": null,
   "metadata": {},
   "outputs": [],
   "source": []
  }
 ],
 "metadata": {
  "kernelspec": {
   "display_name": "Python 2",
   "language": "python",
   "name": "python2"
  },
  "language_info": {
   "codemirror_mode": {
    "name": "ipython",
    "version": 2
   },
   "file_extension": ".py",
   "mimetype": "text/x-python",
   "name": "python",
   "nbconvert_exporter": "python",
   "pygments_lexer": "ipython2",
   "version": "2.7.13"
  }
 },
 "nbformat": 4,
 "nbformat_minor": 2
}
