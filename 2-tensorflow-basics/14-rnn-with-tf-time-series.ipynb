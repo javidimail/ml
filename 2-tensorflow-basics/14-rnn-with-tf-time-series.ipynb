{
 "cells": [
  {
   "cell_type": "code",
   "execution_count": 94,
   "metadata": {},
   "outputs": [],
   "source": [
    "import numpy as np\n",
    "import tensorflow as tf\n",
    "import matplotlib.pyplot as plt\n",
    "%matplotlib inline"
   ]
  },
  {
   "cell_type": "code",
   "execution_count": 148,
   "metadata": {
    "collapsed": true
   },
   "outputs": [],
   "source": [
    "class TimeSeriesData():\n",
    "    \n",
    "    def __init__(self,num_points,xmin,xmax):\n",
    "        \n",
    "        self.xmin = xmin\n",
    "        self.xmax = xmax\n",
    "        self.num_points = num_points\n",
    "        #print('num_points: %f, xmin: %f, xmax: %f'%(num_points,xmin,xmax))\n",
    "        self.resolution = float((xmax-xmin))/float(num_points)\n",
    "        #print('resultion is %f:'%self.resolution)\n",
    "        self.x_data = np.linspace(xmin,xmax,num_points)\n",
    "        self.y_true = np.sin(self.x_data)\n",
    "        \n",
    "    def ret_true(self,x_series):\n",
    "        return np.sin(x_series)\n",
    "    \n",
    "    def next_batch(self,batch_size,steps,return_batch_ts=False):\n",
    "        # Grab a random starting point for each batch of data\n",
    "        rand_start = np.random.rand(batch_size,1)\n",
    "        \n",
    "        # Conver to be on time series\n",
    "        ts_start = rand_start*(self.xmax-self.xmin - (steps*self.resolution))\n",
    "        #print(ts_start)  \n",
    "        # Creat bathc time serioes on the x axis\n",
    "        batch_ts  = ts_start + np.arange(0.0, steps+1) * self.resolution\n",
    "        #print(batch_ts)\n",
    "        \n",
    "        y_batch = np.sin(batch_ts)\n",
    "        \n",
    "        \n",
    "        if return_batch_ts:\n",
    "            return y_batch[:,:-1].reshape(-1,steps,1), y_batch[:,1:].reshape(-1,steps,1), batch_ts\n",
    "        else:\n",
    "            return y_batch[:,:-1].reshape(-1,steps,1), y_batch[:,1:].reshape(-1,steps,1)"
   ]
  },
  {
   "cell_type": "code",
   "execution_count": 149,
   "metadata": {},
   "outputs": [],
   "source": [
    "ts_data = TimeSeriesData(250,0,10)"
   ]
  },
  {
   "cell_type": "code",
   "execution_count": 150,
   "metadata": {},
   "outputs": [
    {
     "data": {
      "text/plain": [
       "[<matplotlib.lines.Line2D at 0x7f4b647c85d0>]"
      ]
     },
     "execution_count": 150,
     "metadata": {},
     "output_type": "execute_result"
    },
    {
     "data": {
      "image/png": "[encoded data removed]",
      "text/plain": [
       "<matplotlib.figure.Figure at 0x7f4b64915c50>"
      ]
     },
     "metadata": {},
     "output_type": "display_data"
    }
   ],
   "source": [
    "plt.plot(ts_data.x_data,ts_data.y_true)"
   ]
  },
  {
   "cell_type": "code",
   "execution_count": 151,
   "metadata": {},
   "outputs": [
    {
     "data": {
      "text/plain": [
       "(array([[[-0.16356183],\n",
       "         [-0.12398019],\n",
       "         [-0.08420022]]]), array([[[-0.12398019],\n",
       "         [-0.08420022],\n",
       "         [-0.04428554]]]))"
      ]
     },
     "execution_count": 151,
     "metadata": {},
     "output_type": "execute_result"
    }
   ],
   "source": [
    "ts_data.next_batch(1,3)"
   ]
  },
  {
   "cell_type": "code",
   "execution_count": 152,
   "metadata": {},
   "outputs": [],
   "source": [
    "num_time_steps = 30\n",
    "y1, y2, ts = ts_data.next_batch(1,num_time_steps,True)"
   ]
  },
  {
   "cell_type": "code",
   "execution_count": 153,
   "metadata": {},
   "outputs": [
    {
     "data": {
      "text/plain": [
       "array([[[-0.79493249],\n",
       "        [-0.81855807],\n",
       "        [-0.84087414],\n",
       "        [-0.86184498],\n",
       "        [-0.88143706],\n",
       "        [-0.89961903],\n",
       "        [-0.9163618 ],\n",
       "        [-0.93163858],\n",
       "        [-0.94542494],\n",
       "        [-0.95769883],\n",
       "        [-0.9684406 ],\n",
       "        [-0.97763307],\n",
       "        [-0.98526154],\n",
       "        [-0.99131379],\n",
       "        [-0.99578016],\n",
       "        [-0.9986535 ],\n",
       "        [-0.9999292 ],\n",
       "        [-0.99960522],\n",
       "        [-0.99768209],\n",
       "        [-0.99416289],\n",
       "        [-0.98905323],\n",
       "        [-0.9823613 ],\n",
       "        [-0.9740978 ],\n",
       "        [-0.96427595],\n",
       "        [-0.95291147],\n",
       "        [-0.94002253],\n",
       "        [-0.92562976],\n",
       "        [-0.90975618],\n",
       "        [-0.89242718],\n",
       "        [-0.87367048]]])"
      ]
     },
     "execution_count": 153,
     "metadata": {},
     "output_type": "execute_result"
    }
   ],
   "source": [
    "y1"
   ]
  },
  {
   "cell_type": "code",
   "execution_count": 154,
   "metadata": {},
   "outputs": [
    {
     "data": {
      "text/plain": [
       "array([[ 4.06048895,  4.10048895,  4.14048895,  4.18048895,  4.22048895,\n",
       "         4.26048895,  4.30048895,  4.34048895,  4.38048895,  4.42048895,\n",
       "         4.46048895,  4.50048895,  4.54048895,  4.58048895,  4.62048895,\n",
       "         4.66048895,  4.70048895,  4.74048895,  4.78048895,  4.82048895,\n",
       "         4.86048895,  4.90048895,  4.94048895,  4.98048895,  5.02048895,\n",
       "         5.06048895,  5.10048895,  5.14048895,  5.18048895,  5.22048895,\n",
       "         5.26048895]])"
      ]
     },
     "execution_count": 154,
     "metadata": {},
     "output_type": "execute_result"
    }
   ],
   "source": [
    "ts"
   ]
  },
  {
   "cell_type": "code",
   "execution_count": 155,
   "metadata": {},
   "outputs": [
    {
     "data": {
      "text/plain": [
       "(1, 31)"
      ]
     },
     "execution_count": 155,
     "metadata": {},
     "output_type": "execute_result"
    }
   ],
   "source": [
    "ts.shape"
   ]
  },
  {
   "cell_type": "code",
   "execution_count": 156,
   "metadata": {},
   "outputs": [
    {
     "data": {
      "text/plain": [
       "[<matplotlib.lines.Line2D at 0x7f4b6476e050>]"
      ]
     },
     "execution_count": 156,
     "metadata": {},
     "output_type": "execute_result"
    },
    {
     "data": {
      "image/png": "[encoded data removed]",
      "text/plain": [
       "<matplotlib.figure.Figure at 0x7f4b647ef050>"
      ]
     },
     "metadata": {},
     "output_type": "display_data"
    }
   ],
   "source": [
    "plt.plot(ts.flatten()[1:], y2.flatten(),'*')"
   ]
  },
  {
   "cell_type": "code",
   "execution_count": 157,
   "metadata": {},
   "outputs": [
    {
     "data": {
      "image/png": "[encoded data removed]",
      "text/plain": [
       "<matplotlib.figure.Figure at 0x7f4b647ef150>"
      ]
     },
     "metadata": {},
     "output_type": "display_data"
    }
   ],
   "source": [
    "plt.plot(ts_data.x_data,ts_data.y_true,label='Sin(t)')\n",
    "plt.plot(ts.flatten()[1:], y2.flatten(),'*', label=\"single Training Instance\")\n",
    "plt.legend()\n",
    "plt.tight_layout()"
   ]
  },
  {
   "cell_type": "code",
   "execution_count": 158,
   "metadata": {
    "collapsed": true
   },
   "outputs": [],
   "source": [
    "# Training Data\n",
    "train_inst = np.linspace(5,5+ts_data.resolution*(num_time_steps+1),num_time_steps+1)"
   ]
  },
  {
   "cell_type": "code",
   "execution_count": 176,
   "metadata": {},
   "outputs": [
    {
     "data": {
      "text/plain": [
       "<matplotlib.legend.Legend at 0x7f4b6472f3d0>"
      ]
     },
     "execution_count": 176,
     "metadata": {},
     "output_type": "execute_result"
    },
    {
     "data": {
      "image/png": "[encoded data removed]",
      "text/plain": [
       "<matplotlib.figure.Figure at 0x7f4b64721c50>"
      ]
     },
     "metadata": {},
     "output_type": "display_data"
    }
   ],
   "source": [
    "plt.title('A training instance')\n",
    "plt.plot(train_inst[:-1],ts_data.ret_true(train_inst[:-1]),'bo', alpha=0.5,markersize=15,label='instance')\n",
    "\n",
    "plt.plot(train_inst[1:],ts_data.ret_true(train_inst[1:]), 'ko',label='target')\n",
    "plt.legend()"
   ]
  },
  {
   "cell_type": "code",
   "execution_count": 258,
   "metadata": {
    "collapsed": true
   },
   "outputs": [],
   "source": [
    "tf.reset_default_graph()"
   ]
  },
  {
   "cell_type": "code",
   "execution_count": 259,
   "metadata": {
    "collapsed": true
   },
   "outputs": [],
   "source": [
    "num_inputs = 1\n",
    "num_neurons = 200\n",
    "num_outputs = 1\n",
    "learning_rate = 0.001\n",
    "num_training_iteration = 2000\n",
    "batch_size = 1"
   ]
  },
  {
   "cell_type": "code",
   "execution_count": 260,
   "metadata": {
    "collapsed": true
   },
   "outputs": [],
   "source": [
    "# PLACEHOLDERS\n",
    "X = tf.placeholder(tf.float32,[None, num_time_steps,num_inputs])\n",
    "y = tf.placeholder(tf.float32,[None, num_time_steps, num_outputs])\n",
    "\n",
    "# RNN CELL LAYER\n",
    "icell = tf.contrib.rnn.BasicLSTMCell(num_units=num_neurons, activation=tf.nn.relu)\n",
    "cell = tf.contrib.rnn.OutputProjectionWrapper(icell,output_size=num_outputs)"
   ]
  },
  {
   "cell_type": "code",
   "execution_count": 261,
   "metadata": {},
   "outputs": [],
   "source": [
    "outputs, states = tf.nn.dynamic_rnn(cell, X,dtype=tf.float32)"
   ]
  },
  {
   "cell_type": "code",
   "execution_count": 262,
   "metadata": {
    "collapsed": true
   },
   "outputs": [],
   "source": [
    "loss = tf.reduce_mean(tf.square(outputs-y))"
   ]
  },
  {
   "cell_type": "code",
   "execution_count": 263,
   "metadata": {
    "collapsed": true
   },
   "outputs": [],
   "source": [
    "optimizer = tf.train.AdamOptimizer(learning_rate=learning_rate)"
   ]
  },
  {
   "cell_type": "code",
   "execution_count": 264,
   "metadata": {},
   "outputs": [],
   "source": [
    "train = optimizer.minimize(loss)"
   ]
  },
  {
   "cell_type": "code",
   "execution_count": 265,
   "metadata": {
    "collapsed": true
   },
   "outputs": [],
   "source": [
    "init = tf.global_variables_initializer()"
   ]
  },
  {
   "cell_type": "code",
   "execution_count": 266,
   "metadata": {
    "collapsed": true
   },
   "outputs": [],
   "source": [
    "saver = tf.train.Saver()"
   ]
  },
  {
   "cell_type": "code",
   "execution_count": 267,
   "metadata": {},
   "outputs": [
    {
     "name": "stdout",
     "output_type": "stream",
     "text": [
      "(0, '\\tMSE', 0.36642495)\n",
      "(100, '\\tMSE', 0.017026385)\n",
      "(200, '\\tMSE', 0.016438222)\n",
      "(300, '\\tMSE', 0.0027973114)\n",
      "(400, '\\tMSE', 0.015398095)\n",
      "(500, '\\tMSE', 0.00040992367)\n",
      "(600, '\\tMSE', 0.0012535942)\n",
      "(700, '\\tMSE', 0.0014481557)\n",
      "(800, '\\tMSE', 0.000811868)\n",
      "(900, '\\tMSE', 0.00017894139)\n",
      "(1000, '\\tMSE', 0.00011779824)\n",
      "(1100, '\\tMSE', 0.0026665437)\n",
      "(1200, '\\tMSE', 0.00012254631)\n",
      "(1300, '\\tMSE', 5.8315134e-05)\n",
      "(1400, '\\tMSE', 3.3505014e-05)\n",
      "(1500, '\\tMSE', 0.00016087103)\n",
      "(1600, '\\tMSE', 0.0010247711)\n",
      "(1700, '\\tMSE', 0.00021749377)\n",
      "(1800, '\\tMSE', 0.00016654149)\n",
      "(1900, '\\tMSE', 0.0020427345)\n"
     ]
    }
   ],
   "source": [
    "with tf.Session() as sess:\n",
    "    sess.run(init)\n",
    "    for iteration in range(num_training_iteration):\n",
    "        X_batch, y_batch= ts_data.next_batch(batch_size,num_time_steps)\n",
    "        sess.run(train,feed_dict={ X: X_batch,y:y_batch})\n",
    "        \n",
    "        if iteration % 100 == 0:\n",
    "            \n",
    "            mse = loss.eval(feed_dict={X:X_batch,y:y_batch})\n",
    "            print(iteration,'\\tMSE',mse)\n",
    "    saver.save(sess,\"./rnn_time_series_model\")"
   ]
  },
  {
   "cell_type": "code",
   "execution_count": 268,
   "metadata": {},
   "outputs": [
    {
     "name": "stdout",
     "output_type": "stream",
     "text": [
      "INFO:tensorflow:Restoring parameters from ./rnn_time_series_model\n"
     ]
    }
   ],
   "source": [
    "with tf.Session() as sess:\n",
    "    saver.restore(sess, \"./rnn_time_series_model\")\n",
    "    X_new = np.sin(np.array(train_inst[:-1].reshape(-1,num_time_steps,num_inputs)))\n",
    "    y_pred = sess.run(outputs, feed_dict={X:X_new})"
   ]
  },
  {
   "cell_type": "code",
   "execution_count": 269,
   "metadata": {},
   "outputs": [
    {
     "data": {
      "image/png": "[encoded data removed]",
      "text/plain": [
       "<matplotlib.figure.Figure at 0x7f4af85f3dd0>"
      ]
     },
     "metadata": {},
     "output_type": "display_data"
    }
   ],
   "source": [
    "plt.title(\"Testing the model\")\n",
    "\n",
    "plt.plot(train_inst[:-1],np.sin(train_inst[:-1]),\"bo\",markersize=15,alpha=0.5, label=\"train set\")\n",
    "plt.plot(train_inst[1:],np.sin(train_inst[1:]), \"ko\", markersize = 10, label=\"target\")\n",
    "plt.plot(train_inst[1:],y_pred[0,:,0], 'r.', markersize=10,label='Prediction')\n",
    "plt.legend()\n",
    "plt.tight_layout()"
   ]
  },
  {
   "cell_type": "code",
   "execution_count": null,
   "metadata": {
    "collapsed": true
   },
   "outputs": [],
   "source": []
  },
  {
   "cell_type": "code",
   "execution_count": null,
   "metadata": {
    "collapsed": true
   },
   "outputs": [],
   "source": []
  }
 ],
 "metadata": {
  "kernelspec": {
   "display_name": "Python 2",
   "language": "python",
   "name": "python2"
  },
  "language_info": {
   "codemirror_mode": {
    "name": "ipython",
    "version": 2
   },
   "file_extension": ".py",
   "mimetype": "text/x-python",
   "name": "python",
   "nbconvert_exporter": "python",
   "pygments_lexer": "ipython2",
   "version": "2.7.12"
  }
 },
 "nbformat": 4,
 "nbformat_minor": 2
}
