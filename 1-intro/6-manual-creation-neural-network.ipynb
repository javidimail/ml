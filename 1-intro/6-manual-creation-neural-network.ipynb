{
 "cells": [
  {
   "cell_type": "code",
   "execution_count": 27,
   "metadata": {},
   "outputs": [],
   "source": [
    "class firstclass():\n",
    "    def __init__(self, name):\n",
    "        print(\"class initiated\" + name)\n",
    "    def fistfunction(self):\n",
    "        print(\"you just called the first function of the class\")"
   ]
  },
  {
   "cell_type": "code",
   "execution_count": 29,
   "metadata": {},
   "outputs": [
    {
     "name": "stdout",
     "output_type": "stream",
     "text": [
      "class initiatedreza\n"
     ]
    }
   ],
   "source": [
    "x = firstclass('reza')"
   ]
  },
  {
   "cell_type": "code",
   "execution_count": 34,
   "metadata": {},
   "outputs": [],
   "source": [
    "class ExtendedClass(firstclass):\n",
    "    \n",
    "    def __init__(self):\n",
    "    \n",
    "        super().__init__(\"sad\")\n",
    "        print(\"second class initiated\")\n"
   ]
  },
  {
   "cell_type": "markdown",
   "metadata": {},
   "source": [
    "Operation Class"
   ]
  },
  {
   "cell_type": "code",
   "execution_count": 39,
   "metadata": {},
   "outputs": [],
   "source": [
    "class operation():\n",
    "    \n",
    "    def __init__(self, input_nodes=[]):\n",
    "        self.input_nodes = input_nodes\n",
    "        self.output_nodes = []\n",
    "    \n",
    "        for node in input_nodes:\n",
    "            node.output_nodes.append(self)\n",
    "    def compute(self):\n",
    "        pass"
   ]
  },
  {
   "cell_type": "code",
   "execution_count": 40,
   "metadata": {},
   "outputs": [],
   "source": [
    "class add(operation):\n",
    "    \n",
    "    def __init__(self,x,y):\n",
    "        super().__init__([x,y])\n",
    "    def compute(self, x_var, y_var):\n",
    "        self.inputs = [x_var,y_var]\n",
    "        return x_var + y_var"
   ]
  },
  {
   "cell_type": "code",
   "execution_count": null,
   "metadata": {},
   "outputs": [],
   "source": [
    "class placeholder():\n",
    "    def __init__(self):\n",
    "        self.output_nodes = []\n",
    "        _de"
   ]
  }
 ],
 "metadata": {
  "kernelspec": {
   "display_name": "Python 2",
   "language": "python",
   "name": "python2"
  },
  "language_info": {
   "codemirror_mode": {
    "name": "ipython",
    "version": 2
   },
   "file_extension": ".py",
   "mimetype": "text/x-python",
   "name": "python",
   "nbconvert_exporter": "python",
   "pygments_lexer": "ipython2",
   "version": "2.7.12"
  }
 },
 "nbformat": 4,
 "nbformat_minor": 2
}
